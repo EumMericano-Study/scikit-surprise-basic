{
 "cells": [
  {
   "cell_type": "markdown",
   "metadata": {},
   "source": [
    "# 추천 시스템 (Recommender Systems)\n",
    "\n",
    "* 추천 시스템은 크게 두가지로 구분 가능\n",
    "  * 컨텐츠 기반 필터링 (content-based filtering)\n",
    "  * 협업 필터링 (collaborative filtering)\n",
    "* 두가지를 조합한 hybrid 방식도 가능\n",
    "* 컨텐츠 기반 필터링은 지금까지 사용자의 이전 행동과 명시적 피드백을 통해 사용자가 좋아하는 것과 유사한 항목을 추천\n",
    "* 협업 필터링은 사용자와 항목간의 유사성을 동시에 사용해 추천"
   ]
  },
  {
   "cell_type": "markdown",
   "metadata": {},
   "source": [
    "## Surprise\n",
    "\n",
    "* 추천 시스템 개발을 위한 라이브러리\n",
    "* 다양한 모델과 데이터 제공\n",
    "* scikit-learn과 유사한 사용 방법"
   ]
  },
  {
   "cell_type": "code",
   "execution_count": 3,
   "metadata": {},
   "outputs": [
    {
     "name": "stdout",
     "output_type": "stream",
     "text": [
      "Defaulting to user installation because normal site-packages is not writeable\n",
      "Requirement already satisfied: numpy in /Users/eumericano/Library/Python/3.8/lib/python/site-packages (1.22.3)\n",
      "Defaulting to user installation because normal site-packages is not writeable\n",
      "Requirement already satisfied: scikit-surprise in /Users/eumericano/Library/Python/3.8/lib/python/site-packages (1.1.1)\n",
      "Requirement already satisfied: numpy>=1.11.2 in /Users/eumericano/Library/Python/3.8/lib/python/site-packages (from scikit-surprise) (1.22.3)\n",
      "Requirement already satisfied: scipy>=1.0.0 in /Users/eumericano/Library/Python/3.8/lib/python/site-packages (from scikit-surprise) (1.8.0)\n",
      "Requirement already satisfied: joblib>=0.11 in /Users/eumericano/Library/Python/3.8/lib/python/site-packages (from scikit-surprise) (1.1.0)\n",
      "Requirement already satisfied: six>=1.10.0 in /Applications/Xcode.app/Contents/Developer/Library/Frameworks/Python3.framework/Versions/3.8/lib/python3.8/site-packages (from scikit-surprise) (1.15.0)\n"
     ]
    }
   ],
   "source": [
    "!pip3 install numpy\n",
    "!pip3 install scikit-surprise"
   ]
  },
  {
   "cell_type": "markdown",
   "metadata": {},
   "source": [
    "## 간단한 Surprise 실습"
   ]
  },
  {
   "cell_type": "code",
   "execution_count": 4,
   "metadata": {},
   "outputs": [],
   "source": [
    "from surprise import SVD\n",
    "from surprise import Dataset\n",
    "from surprise.model_selection import cross_validate"
   ]
  },
  {
   "cell_type": "markdown",
   "metadata": {},
   "source": [
    "간단한 Surprise 실습"
   ]
  },
  {
   "cell_type": "code",
   "execution_count": 8,
   "metadata": {},
   "outputs": [
    {
     "data": {
      "text/plain": [
       "[('196', '242', 3.0, '881250949'),\n",
       " ('186', '302', 3.0, '891717742'),\n",
       " ('22', '377', 1.0, '878887116'),\n",
       " ('244', '51', 2.0, '880606923'),\n",
       " ('166', '346', 1.0, '886397596'),\n",
       " ('298', '474', 4.0, '884182806'),\n",
       " ('115', '265', 2.0, '881171488'),\n",
       " ('253', '465', 5.0, '891628467'),\n",
       " ('305', '451', 3.0, '886324817'),\n",
       " ('6', '86', 3.0, '883603013')]"
      ]
     },
     "execution_count": 8,
     "metadata": {},
     "output_type": "execute_result"
    }
   ],
   "source": [
    "data= Dataset.load_builtin('ml-100k', prompt=False)\n",
    "data.raw_ratings[:10]"
   ]
  },
  {
   "cell_type": "code",
   "execution_count": null,
   "metadata": {},
   "outputs": [],
   "source": [
    "model = SVD()"
   ]
  }
 ],
 "metadata": {
  "interpreter": {
   "hash": "aee8b7b246df8f9039afb4144a1f6fd8d2ca17a180786b69acc140d282b71a49"
  },
  "kernelspec": {
   "display_name": "Python 3.10.3 64-bit",
   "language": "python",
   "name": "python3"
  },
  "language_info": {
   "codemirror_mode": {
    "name": "ipython",
    "version": 3
   },
   "file_extension": ".py",
   "mimetype": "text/x-python",
   "name": "python",
   "nbconvert_exporter": "python",
   "pygments_lexer": "ipython3",
   "version": "3.8.9"
  },
  "orig_nbformat": 4
 },
 "nbformat": 4,
 "nbformat_minor": 2
}
