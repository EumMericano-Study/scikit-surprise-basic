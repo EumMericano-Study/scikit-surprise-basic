{
 "cells": [
  {
   "cell_type": "markdown",
   "metadata": {},
   "source": [
    "# 추천 시스템 (Recommender Systems)\n",
    "\n",
    "* 추천 시스템은 크게 두가지로 구분 가능\n",
    "  * 컨텐츠 기반 필터링 (content-based filtering)\n",
    "  * 협업 필터링 (collaborative filtering)\n",
    "* 두가지를 조합한 hybrid 방식도 가능\n",
    "* 컨텐츠 기반 필터링은 지금까지 사용자의 이전 행동과 명시적 피드백을 통해 사용자가 좋아하는 것과 유사한 항목을 추천\n",
    "* 협업 필터링은 사용자와 항목간의 유사성을 동시에 사용해 추천"
   ]
  },
  {
   "cell_type": "markdown",
   "metadata": {},
   "source": [
    "## Surprise\n",
    "\n",
    "* 추천 시스템 개발을 위한 라이브러리\n",
    "* 다양한 모델과 데이터 제공\n",
    "* scikit-learn과 유사한 사용 방법"
   ]
  },
  {
   "cell_type": "code",
   "execution_count": 2,
   "metadata": {},
   "outputs": [
    {
     "name": "stdout",
     "output_type": "stream",
     "text": [
      "Requirement already satisfied: numpy in /Library/Frameworks/Python.framework/Versions/3.10/lib/python3.10/site-packages (1.22.3)\n",
      "Collecting scikit-surprise\n",
      "  Using cached scikit-surprise-1.1.1.tar.gz (11.8 MB)\n",
      "  Preparing metadata (setup.py) ... \u001b[?25ldone\n",
      "\u001b[?25hRequirement already satisfied: joblib>=0.11 in /Library/Frameworks/Python.framework/Versions/3.10/lib/python3.10/site-packages (from scikit-surprise) (1.1.0)\n",
      "Requirement already satisfied: numpy>=1.11.2 in /Library/Frameworks/Python.framework/Versions/3.10/lib/python3.10/site-packages (from scikit-surprise) (1.22.3)\n",
      "Requirement already satisfied: scipy>=1.0.0 in /Library/Frameworks/Python.framework/Versions/3.10/lib/python3.10/site-packages (from scikit-surprise) (1.8.0)\n",
      "Requirement already satisfied: six>=1.10.0 in /Library/Frameworks/Python.framework/Versions/3.10/lib/python3.10/site-packages (from scikit-surprise) (1.16.0)\n",
      "Using legacy 'setup.py install' for scikit-surprise, since package 'wheel' is not installed.\n",
      "Installing collected packages: scikit-surprise\n",
      "  Running setup.py install for scikit-surprise ... \u001b[?25lerror\n",
      "  \u001b[1;31merror\u001b[0m: \u001b[1msubprocess-exited-with-error\u001b[0m\n",
      "  \n",
      "  \u001b[31m×\u001b[0m \u001b[32mRunning setup.py install for scikit-surprise\u001b[0m did not run successfully.\n",
      "  \u001b[31m│\u001b[0m exit code: \u001b[1;36m1\u001b[0m\n",
      "  \u001b[31m╰─>\u001b[0m \u001b[31m[101 lines of output]\u001b[0m\n",
      "  \u001b[31m   \u001b[0m /Library/Frameworks/Python.framework/Versions/3.10/lib/python3.10/site-packages/setuptools/dist.py:717: UserWarning: Usage of dash-separated 'description-file' will not be supported in future versions. Please use the underscore name 'description_file' instead\n",
      "  \u001b[31m   \u001b[0m   warnings.warn(\n",
      "  \u001b[31m   \u001b[0m running install\n",
      "  \u001b[31m   \u001b[0m running build\n",
      "  \u001b[31m   \u001b[0m running build_py\n",
      "  \u001b[31m   \u001b[0m creating build\n",
      "  \u001b[31m   \u001b[0m creating build/lib.macosx-10.9-universal2-3.10\n",
      "  \u001b[31m   \u001b[0m creating build/lib.macosx-10.9-universal2-3.10/surprise\n",
      "  \u001b[31m   \u001b[0m copying surprise/builtin_datasets.py -> build/lib.macosx-10.9-universal2-3.10/surprise\n",
      "  \u001b[31m   \u001b[0m copying surprise/__init__.py -> build/lib.macosx-10.9-universal2-3.10/surprise\n",
      "  \u001b[31m   \u001b[0m copying surprise/dump.py -> build/lib.macosx-10.9-universal2-3.10/surprise\n",
      "  \u001b[31m   \u001b[0m copying surprise/dataset.py -> build/lib.macosx-10.9-universal2-3.10/surprise\n",
      "  \u001b[31m   \u001b[0m copying surprise/reader.py -> build/lib.macosx-10.9-universal2-3.10/surprise\n",
      "  \u001b[31m   \u001b[0m copying surprise/utils.py -> build/lib.macosx-10.9-universal2-3.10/surprise\n",
      "  \u001b[31m   \u001b[0m copying surprise/trainset.py -> build/lib.macosx-10.9-universal2-3.10/surprise\n",
      "  \u001b[31m   \u001b[0m copying surprise/accuracy.py -> build/lib.macosx-10.9-universal2-3.10/surprise\n",
      "  \u001b[31m   \u001b[0m copying surprise/__main__.py -> build/lib.macosx-10.9-universal2-3.10/surprise\n",
      "  \u001b[31m   \u001b[0m creating build/lib.macosx-10.9-universal2-3.10/surprise/prediction_algorithms\n",
      "  \u001b[31m   \u001b[0m copying surprise/prediction_algorithms/algo_base.py -> build/lib.macosx-10.9-universal2-3.10/surprise/prediction_algorithms\n",
      "  \u001b[31m   \u001b[0m copying surprise/prediction_algorithms/knns.py -> build/lib.macosx-10.9-universal2-3.10/surprise/prediction_algorithms\n",
      "  \u001b[31m   \u001b[0m copying surprise/prediction_algorithms/predictions.py -> build/lib.macosx-10.9-universal2-3.10/surprise/prediction_algorithms\n",
      "  \u001b[31m   \u001b[0m copying surprise/prediction_algorithms/__init__.py -> build/lib.macosx-10.9-universal2-3.10/surprise/prediction_algorithms\n",
      "  \u001b[31m   \u001b[0m copying surprise/prediction_algorithms/random_pred.py -> build/lib.macosx-10.9-universal2-3.10/surprise/prediction_algorithms\n",
      "  \u001b[31m   \u001b[0m copying surprise/prediction_algorithms/baseline_only.py -> build/lib.macosx-10.9-universal2-3.10/surprise/prediction_algorithms\n",
      "  \u001b[31m   \u001b[0m creating build/lib.macosx-10.9-universal2-3.10/surprise/model_selection\n",
      "  \u001b[31m   \u001b[0m copying surprise/model_selection/__init__.py -> build/lib.macosx-10.9-universal2-3.10/surprise/model_selection\n",
      "  \u001b[31m   \u001b[0m copying surprise/model_selection/split.py -> build/lib.macosx-10.9-universal2-3.10/surprise/model_selection\n",
      "  \u001b[31m   \u001b[0m copying surprise/model_selection/search.py -> build/lib.macosx-10.9-universal2-3.10/surprise/model_selection\n",
      "  \u001b[31m   \u001b[0m copying surprise/model_selection/validation.py -> build/lib.macosx-10.9-universal2-3.10/surprise/model_selection\n",
      "  \u001b[31m   \u001b[0m running egg_info\n",
      "  \u001b[31m   \u001b[0m writing scikit_surprise.egg-info/PKG-INFO\n",
      "  \u001b[31m   \u001b[0m writing dependency_links to scikit_surprise.egg-info/dependency_links.txt\n",
      "  \u001b[31m   \u001b[0m writing entry points to scikit_surprise.egg-info/entry_points.txt\n",
      "  \u001b[31m   \u001b[0m writing requirements to scikit_surprise.egg-info/requires.txt\n",
      "  \u001b[31m   \u001b[0m writing top-level names to scikit_surprise.egg-info/top_level.txt\n",
      "  \u001b[31m   \u001b[0m reading manifest file 'scikit_surprise.egg-info/SOURCES.txt'\n",
      "  \u001b[31m   \u001b[0m reading manifest template 'MANIFEST.in'\n",
      "  \u001b[31m   \u001b[0m adding license file 'LICENSE.md'\n",
      "  \u001b[31m   \u001b[0m writing manifest file 'scikit_surprise.egg-info/SOURCES.txt'\n",
      "  \u001b[31m   \u001b[0m copying surprise/similarities.c -> build/lib.macosx-10.9-universal2-3.10/surprise\n",
      "  \u001b[31m   \u001b[0m copying surprise/similarities.pyx -> build/lib.macosx-10.9-universal2-3.10/surprise\n",
      "  \u001b[31m   \u001b[0m copying surprise/prediction_algorithms/co_clustering.c -> build/lib.macosx-10.9-universal2-3.10/surprise/prediction_algorithms\n",
      "  \u001b[31m   \u001b[0m copying surprise/prediction_algorithms/co_clustering.pyx -> build/lib.macosx-10.9-universal2-3.10/surprise/prediction_algorithms\n",
      "  \u001b[31m   \u001b[0m copying surprise/prediction_algorithms/matrix_factorization.c -> build/lib.macosx-10.9-universal2-3.10/surprise/prediction_algorithms\n",
      "  \u001b[31m   \u001b[0m copying surprise/prediction_algorithms/matrix_factorization.pyx -> build/lib.macosx-10.9-universal2-3.10/surprise/prediction_algorithms\n",
      "  \u001b[31m   \u001b[0m copying surprise/prediction_algorithms/optimize_baselines.c -> build/lib.macosx-10.9-universal2-3.10/surprise/prediction_algorithms\n",
      "  \u001b[31m   \u001b[0m copying surprise/prediction_algorithms/optimize_baselines.pyx -> build/lib.macosx-10.9-universal2-3.10/surprise/prediction_algorithms\n",
      "  \u001b[31m   \u001b[0m copying surprise/prediction_algorithms/slope_one.c -> build/lib.macosx-10.9-universal2-3.10/surprise/prediction_algorithms\n",
      "  \u001b[31m   \u001b[0m copying surprise/prediction_algorithms/slope_one.pyx -> build/lib.macosx-10.9-universal2-3.10/surprise/prediction_algorithms\n",
      "  \u001b[31m   \u001b[0m running build_ext\n",
      "  \u001b[31m   \u001b[0m building 'surprise.similarities' extension\n",
      "  \u001b[31m   \u001b[0m creating build/temp.macosx-10.9-universal2-3.10\n",
      "  \u001b[31m   \u001b[0m creating build/temp.macosx-10.9-universal2-3.10/surprise\n",
      "  \u001b[31m   \u001b[0m clang -Wno-unused-result -Wsign-compare -Wunreachable-code -fno-common -dynamic -DNDEBUG -g -fwrapv -O3 -Wall -arch arm64 -arch x86_64 -g -I/Library/Frameworks/Python.framework/Versions/3.10/lib/python3.10/site-packages/numpy/core/include -I/Library/Frameworks/Python.framework/Versions/3.10/include/python3.10 -c surprise/similarities.c -o build/temp.macosx-10.9-universal2-3.10/surprise/similarities.o\n",
      "  \u001b[31m   \u001b[0m In file included from surprise/similarities.c:629:\n",
      "  \u001b[31m   \u001b[0m In file included from /Library/Frameworks/Python.framework/Versions/3.10/lib/python3.10/site-packages/numpy/core/include/numpy/arrayobject.h:5:\n",
      "  \u001b[31m   \u001b[0m In file included from /Library/Frameworks/Python.framework/Versions/3.10/lib/python3.10/site-packages/numpy/core/include/numpy/ndarrayobject.h:12:\n",
      "  \u001b[31m   \u001b[0m In file included from /Library/Frameworks/Python.framework/Versions/3.10/lib/python3.10/site-packages/numpy/core/include/numpy/ndarraytypes.h:1960:\n",
      "  \u001b[31m   \u001b[0m /Library/Frameworks/Python.framework/Versions/3.10/lib/python3.10/site-packages/numpy/core/include/numpy/npy_1_7_deprecated_api.h:17:2: warning: \"Using deprecated NumPy API, disable it with \"          \"#define NPY_NO_DEPRECATED_API NPY_1_7_API_VERSION\" [-W#warnings]\n",
      "  \u001b[31m   \u001b[0m #warning \"Using deprecated NumPy API, disable it with \" \\\n",
      "  \u001b[31m   \u001b[0m  ^\n",
      "  \u001b[31m   \u001b[0m 1 warning generated.\n",
      "  \u001b[31m   \u001b[0m In file included from surprise/similarities.c:629:\n",
      "  \u001b[31m   \u001b[0m In file included from /Library/Frameworks/Python.framework/Versions/3.10/lib/python3.10/site-packages/numpy/core/include/numpy/arrayobject.h:5:\n",
      "  \u001b[31m   \u001b[0m In file included from /Library/Frameworks/Python.framework/Versions/3.10/lib/python3.10/site-packages/numpy/core/include/numpy/ndarrayobject.h:12:\n",
      "  \u001b[31m   \u001b[0m In file included from /Library/Frameworks/Python.framework/Versions/3.10/lib/python3.10/site-packages/numpy/core/include/numpy/ndarraytypes.h:1960:\n",
      "  \u001b[31m   \u001b[0m /Library/Frameworks/Python.framework/Versions/3.10/lib/python3.10/site-packages/numpy/core/include/numpy/npy_1_7_deprecated_api.h:17:2: warning: \"Using deprecated NumPy API, disable it with \"          \"#define NPY_NO_DEPRECATED_API NPY_1_7_API_VERSION\" [-W#warnings]\n",
      "  \u001b[31m   \u001b[0m #warning \"Using deprecated NumPy API, disable it with \" \\\n",
      "  \u001b[31m   \u001b[0m  ^\n",
      "  \u001b[31m   \u001b[0m 1 warning generated.\n",
      "  \u001b[31m   \u001b[0m clang -bundle -undefined dynamic_lookup -arch arm64 -arch x86_64 -g build/temp.macosx-10.9-universal2-3.10/surprise/similarities.o -o build/lib.macosx-10.9-universal2-3.10/surprise/similarities.cpython-310-darwin.so\n",
      "  \u001b[31m   \u001b[0m building 'surprise.prediction_algorithms.matrix_factorization' extension\n",
      "  \u001b[31m   \u001b[0m creating build/temp.macosx-10.9-universal2-3.10/surprise/prediction_algorithms\n",
      "  \u001b[31m   \u001b[0m clang -Wno-unused-result -Wsign-compare -Wunreachable-code -fno-common -dynamic -DNDEBUG -g -fwrapv -O3 -Wall -arch arm64 -arch x86_64 -g -I/Library/Frameworks/Python.framework/Versions/3.10/lib/python3.10/site-packages/numpy/core/include -I/Library/Frameworks/Python.framework/Versions/3.10/include/python3.10 -c surprise/prediction_algorithms/matrix_factorization.c -o build/temp.macosx-10.9-universal2-3.10/surprise/prediction_algorithms/matrix_factorization.o\n",
      "  \u001b[31m   \u001b[0m In file included from surprise/prediction_algorithms/matrix_factorization.c:629:\n",
      "  \u001b[31m   \u001b[0m In file included from /Library/Frameworks/Python.framework/Versions/3.10/lib/python3.10/site-packages/numpy/core/include/numpy/arrayobject.h:5:\n",
      "  \u001b[31m   \u001b[0m In file included from /Library/Frameworks/Python.framework/Versions/3.10/lib/python3.10/site-packages/numpy/core/include/numpy/ndarrayobject.h:12:\n",
      "  \u001b[31m   \u001b[0m In file included from /Library/Frameworks/Python.framework/Versions/3.10/lib/python3.10/site-packages/numpy/core/include/numpy/ndarraytypes.h:1960:\n",
      "  \u001b[31m   \u001b[0m /Library/Frameworks/Python.framework/Versions/3.10/lib/python3.10/site-packages/numpy/core/include/numpy/npy_1_7_deprecated_api.h:17:2: warning: \"Using deprecated NumPy API, disable it with \"          \"#define NPY_NO_DEPRECATED_API NPY_1_7_API_VERSION\" [-W#warnings]\n",
      "  \u001b[31m   \u001b[0m #warning \"Using deprecated NumPy API, disable it with \" \\\n",
      "  \u001b[31m   \u001b[0m  ^\n",
      "  \u001b[31m   \u001b[0m surprise/prediction_algorithms/matrix_factorization.c:19777:19: error: implicit declaration of function '_PyGen_Send' is invalid in C99 [-Werror,-Wimplicit-function-declaration]\n",
      "  \u001b[31m   \u001b[0m             ret = _PyGen_Send((PyGenObject*)yf, value == Py_None ? NULL : value);\n",
      "  \u001b[31m   \u001b[0m                   ^\n",
      "  \u001b[31m   \u001b[0m surprise/prediction_algorithms/matrix_factorization.c:19777:17: warning: incompatible integer to pointer conversion assigning to 'PyObject *' (aka 'struct _object *') from 'int' [-Wint-conversion]\n",
      "  \u001b[31m   \u001b[0m             ret = _PyGen_Send((PyGenObject*)yf, value == Py_None ? NULL : value);\n",
      "  \u001b[31m   \u001b[0m                 ^ ~~~~~~~~~~~~~~~~~~~~~~~~~~~~~~~~~~~~~~~~~~~~~~~~~~~~~~~~~~~~~~\n",
      "  \u001b[31m   \u001b[0m surprise/prediction_algorithms/matrix_factorization.c:19782:19: error: implicit declaration of function '_PyGen_Send' is invalid in C99 [-Werror,-Wimplicit-function-declaration]\n",
      "  \u001b[31m   \u001b[0m             ret = _PyGen_Send((PyGenObject*)yf, value == Py_None ? NULL : value);\n",
      "  \u001b[31m   \u001b[0m                   ^\n",
      "  \u001b[31m   \u001b[0m surprise/prediction_algorithms/matrix_factorization.c:19782:17: warning: incompatible integer to pointer conversion assigning to 'PyObject *' (aka 'struct _object *') from 'int' [-Wint-conversion]\n",
      "  \u001b[31m   \u001b[0m             ret = _PyGen_Send((PyGenObject*)yf, value == Py_None ? NULL : value);\n",
      "  \u001b[31m   \u001b[0m                 ^ ~~~~~~~~~~~~~~~~~~~~~~~~~~~~~~~~~~~~~~~~~~~~~~~~~~~~~~~~~~~~~~\n",
      "  \u001b[31m   \u001b[0m surprise/prediction_algorithms/matrix_factorization.c:19866:19: error: implicit declaration of function '_PyGen_Send' is invalid in C99 [-Werror,-Wimplicit-function-declaration]\n",
      "  \u001b[31m   \u001b[0m             ret = _PyGen_Send((PyGenObject*)yf, NULL);\n",
      "  \u001b[31m   \u001b[0m                   ^\n",
      "  \u001b[31m   \u001b[0m surprise/prediction_algorithms/matrix_factorization.c:19866:17: warning: incompatible integer to pointer conversion assigning to 'PyObject *' (aka 'struct _object *') from 'int' [-Wint-conversion]\n",
      "  \u001b[31m   \u001b[0m             ret = _PyGen_Send((PyGenObject*)yf, NULL);\n",
      "  \u001b[31m   \u001b[0m                 ^ ~~~~~~~~~~~~~~~~~~~~~~~~~~~~~~~~~~~\n",
      "  \u001b[31m   \u001b[0m 4 warnings and 3 errors generated.\n",
      "  \u001b[31m   \u001b[0m error: command '/usr/bin/clang' failed with exit code 1\n",
      "  \u001b[31m   \u001b[0m \u001b[31m[end of output]\u001b[0m\n",
      "  \n",
      "  \u001b[1;35mnote\u001b[0m: This error originates from a subprocess, and is likely not a problem with pip.\n",
      "\u001b[1;31merror\u001b[0m: \u001b[1mlegacy-install-failure\u001b[0m\n",
      "\n",
      "\u001b[31m×\u001b[0m Encountered error while trying to install package.\n",
      "\u001b[31m╰─>\u001b[0m scikit-surprise\n",
      "\n",
      "\u001b[1;35mnote\u001b[0m: This is an issue with the package mentioned above, not pip.\n",
      "\u001b[1;36mhint\u001b[0m: See above for output from the failure.\n"
     ]
    },
    {
     "name": "stdout",
     "output_type": "stream",
     "text": [
      "\u001b[?25h"
     ]
    }
   ],
   "source": [
    "!pip3 install numpy\n",
    "!pip3 install scikit-surprise"
   ]
  },
  {
   "cell_type": "markdown",
   "metadata": {},
   "source": [
    "## 간단한 Surprise 실습"
   ]
  },
  {
   "cell_type": "code",
   "execution_count": 1,
   "metadata": {},
   "outputs": [
    {
     "ename": "ModuleNotFoundError",
     "evalue": "No module named 'surprise'",
     "output_type": "error",
     "traceback": [
      "\u001b[0;31m---------------------------------------------------------------------------\u001b[0m",
      "\u001b[0;31mModuleNotFoundError\u001b[0m                       Traceback (most recent call last)",
      "Input \u001b[0;32mIn [1]\u001b[0m, in \u001b[0;36m<cell line: 1>\u001b[0;34m()\u001b[0m\n\u001b[0;32m----> 1\u001b[0m \u001b[38;5;28;01mfrom\u001b[39;00m \u001b[38;5;21;01msurprise\u001b[39;00m \u001b[38;5;28;01mimport\u001b[39;00m SVD\n\u001b[1;32m      2\u001b[0m \u001b[38;5;28;01mfrom\u001b[39;00m \u001b[38;5;21;01msurprise\u001b[39;00m \u001b[38;5;28;01mimport\u001b[39;00m Dataset\n\u001b[1;32m      3\u001b[0m \u001b[38;5;28;01mfrom\u001b[39;00m \u001b[38;5;21;01msurprise\u001b[39;00m\u001b[38;5;21;01m.\u001b[39;00m\u001b[38;5;21;01mmodel_selection\u001b[39;00m \u001b[38;5;28;01mimport\u001b[39;00m cross_validate\n",
      "\u001b[0;31mModuleNotFoundError\u001b[0m: No module named 'surprise'"
     ]
    }
   ],
   "source": [
    "from surprise import SVD\n",
    "from surprise import Dataset\n",
    "from surprise.model_selection import cross_validate"
   ]
  },
  {
   "cell_type": "markdown",
   "metadata": {},
   "source": [
    "간단한 Surprise 실습"
   ]
  },
  {
   "cell_type": "code",
   "execution_count": null,
   "metadata": {},
   "outputs": [],
   "source": []
  }
 ],
 "metadata": {
  "interpreter": {
   "hash": "aee8b7b246df8f9039afb4144a1f6fd8d2ca17a180786b69acc140d282b71a49"
  },
  "kernelspec": {
   "display_name": "Python 3 (ipykernel)",
   "language": "python",
   "name": "python3"
  },
  "language_info": {
   "codemirror_mode": {
    "name": "ipython",
    "version": 3
   },
   "file_extension": ".py",
   "mimetype": "text/x-python",
   "name": "python",
   "nbconvert_exporter": "python",
   "pygments_lexer": "ipython3",
   "version": "3.10.3"
  }
 },
 "nbformat": 4,
 "nbformat_minor": 2
}
